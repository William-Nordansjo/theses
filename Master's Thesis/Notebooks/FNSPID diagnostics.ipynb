{
 "cells": [
  {
   "cell_type": "code",
   "execution_count": 1,
   "id": "6a23b655",
   "metadata": {},
   "outputs": [
    {
     "name": "stderr",
     "output_type": "stream",
     "text": [
      "/var/folders/j5/tqvd0k7104s47pv13lpjvlnh0000gn/T/ipykernel_37365/2876516205.py:9: DtypeWarning: Columns (3) have mixed types. Specify dtype option on import or set low_memory=False.\n",
      "  for chunk in filtered:\n"
     ]
    }
   ],
   "source": [
    "import pandas as pd\n",
    "\n",
    "file_path = \"/Volumes/T7/External Downloads/nasdaq_exteral_data.csv\"\n",
    "top_stocks = ['AAPL']\n",
    "\n",
    "filtered = pd.read_csv(file_path, usecols=['Date', 'Stock_symbol', 'Article_title'], chunksize=100_000)\n",
    "\n",
    "rows = []\n",
    "for chunk in filtered:\n",
    "    chunk = chunk[chunk['Stock_symbol'].isin(top_stocks)]\n",
    "    rows.append(chunk)\n",
    "\n",
    "df_filtered = pd.concat(rows)\n"
   ]
  },
  {
   "cell_type": "code",
   "execution_count": null,
   "id": "27d1b6b8",
   "metadata": {},
   "outputs": [],
   "source": [
    "import pandas as pd\n",
    "\n",
    "file_path = \"/Volumes/T7/External Downloads/nasdaq_exteral_data.csv\"\n",
    "top_stocks = ['AAPL']\n",
    "\n",
    "filtered = pd.read_csv(file_path, usecols=['Date', 'Stock_symbol', 'Article_title'], chunksize=100_000)\n",
    "\n",
    "rows = []\n",
    "for chunk in filtered:\n",
    "    chunk = chunk[chunk['Stock_symbol'].isin(top_stocks)]\n",
    "    rows.append(chunk)\n",
    "\n",
    "df_filtered = pd.concat(rows)\n"
   ]
  },
  {
   "cell_type": "code",
   "execution_count": 3,
   "id": "05efced9",
   "metadata": {},
   "outputs": [
    {
     "data": {
      "text/plain": [
       "(Timestamp('2020-03-09 00:00:00+0000', tz='UTC'),\n",
       " Timestamp('2023-12-16 22:00:00+0000', tz='UTC'))"
      ]
     },
     "execution_count": 3,
     "metadata": {},
     "output_type": "execute_result"
    }
   ],
   "source": [
    "df_filtered['Date'] = pd.to_datetime(df_filtered['Date'])\n",
    "df_filtered['Date'].min(), df_filtered['Date'].max()\n"
   ]
  },
  {
   "cell_type": "code",
   "execution_count": 19,
   "id": "55900aeb",
   "metadata": {
    "scrolled": false
   },
   "outputs": [
    {
     "name": "stderr",
     "output_type": "stream",
     "text": [
      "/var/folders/j5/tqvd0k7104s47pv13lpjvlnh0000gn/T/ipykernel_37365/474685230.py:2: UserWarning: Converting to PeriodArray/Index representation will drop timezone information.\n",
      "  df_filtered['month'] = df_filtered['Date'].dt.to_period('M')\n"
     ]
    },
    {
     "data": {
      "text/plain": [
       "<AxesSubplot:title={'center':'Articles per Year'}, xlabel='year'>"
      ]
     },
     "execution_count": 19,
     "metadata": {},
     "output_type": "execute_result"
    },
    {
     "data": {
      "image/png": "[encoded data removed]",
      "text/plain": [
       "<Figure size 1200x500 with 1 Axes>"
      ]
     },
     "metadata": {},
     "output_type": "display_data"
    }
   ],
   "source": [
    "df_filtered['year'] = df_filtered['Date'].dt.year\n",
    "df_filtered['month'] = df_filtered['Date'].dt.to_period('M')\n",
    "\n",
    "df_filtered['year'].value_counts().sort_index().plot(kind='bar', figsize=(12,5), title=\"Articles per Year\")\n"
   ]
  },
  {
   "cell_type": "code",
   "execution_count": 20,
   "id": "f9733dd4",
   "metadata": {},
   "outputs": [
    {
     "data": {
      "text/html": [
       "<div>\n",
       "<style scoped>\n",
       "    .dataframe tbody tr th:only-of-type {\n",
       "        vertical-align: middle;\n",
       "    }\n",
       "\n",
       "    .dataframe tbody tr th {\n",
       "        vertical-align: top;\n",
       "    }\n",
       "\n",
       "    .dataframe thead th {\n",
       "        text-align: right;\n",
       "    }\n",
       "</style>\n",
       "<table border=\"1\" class=\"dataframe\">\n",
       "  <thead>\n",
       "    <tr style=\"text-align: right;\">\n",
       "      <th></th>\n",
       "      <th>Date</th>\n",
       "      <th>Article_title</th>\n",
       "      <th>Stock_symbol</th>\n",
       "      <th>year</th>\n",
       "      <th>month</th>\n",
       "    </tr>\n",
       "  </thead>\n",
       "  <tbody>\n",
       "    <tr>\n",
       "      <th>12025</th>\n",
       "      <td>2023-12-16 22:00:00+00:00</td>\n",
       "      <td>My 6 Largest Portfolio Holdings Heading Into 2...</td>\n",
       "      <td>AAPL</td>\n",
       "      <td>2023</td>\n",
       "      <td>2023-12</td>\n",
       "    </tr>\n",
       "    <tr>\n",
       "      <th>12026</th>\n",
       "      <td>2023-12-16 22:00:00+00:00</td>\n",
       "      <td>Brokers Suggest Investing in Apple (AAPL): Rea...</td>\n",
       "      <td>AAPL</td>\n",
       "      <td>2023</td>\n",
       "      <td>2023-12</td>\n",
       "    </tr>\n",
       "    <tr>\n",
       "      <th>12027</th>\n",
       "      <td>2023-12-16 21:00:00+00:00</td>\n",
       "      <td>Company News for Dec 19, 2023</td>\n",
       "      <td>AAPL</td>\n",
       "      <td>2023</td>\n",
       "      <td>2023-12</td>\n",
       "    </tr>\n",
       "    <tr>\n",
       "      <th>12028</th>\n",
       "      <td>2023-12-16 21:00:00+00:00</td>\n",
       "      <td>NVIDIA (NVDA) Up 243% YTD: Will It Carry Momen...</td>\n",
       "      <td>AAPL</td>\n",
       "      <td>2023</td>\n",
       "      <td>2023-12</td>\n",
       "    </tr>\n",
       "    <tr>\n",
       "      <th>12029</th>\n",
       "      <td>2023-12-16 21:00:00+00:00</td>\n",
       "      <td>Pre-Market Most Active for Dec 19, 2023 : BMY,...</td>\n",
       "      <td>AAPL</td>\n",
       "      <td>2023</td>\n",
       "      <td>2023-12</td>\n",
       "    </tr>\n",
       "  </tbody>\n",
       "</table>\n",
       "</div>"
      ],
      "text/plain": [
       "                           Date  \\\n",
       "12025 2023-12-16 22:00:00+00:00   \n",
       "12026 2023-12-16 22:00:00+00:00   \n",
       "12027 2023-12-16 21:00:00+00:00   \n",
       "12028 2023-12-16 21:00:00+00:00   \n",
       "12029 2023-12-16 21:00:00+00:00   \n",
       "\n",
       "                                           Article_title Stock_symbol  year  \\\n",
       "12025  My 6 Largest Portfolio Holdings Heading Into 2...         AAPL  2023   \n",
       "12026  Brokers Suggest Investing in Apple (AAPL): Rea...         AAPL  2023   \n",
       "12027                      Company News for Dec 19, 2023         AAPL  2023   \n",
       "12028  NVIDIA (NVDA) Up 243% YTD: Will It Carry Momen...         AAPL  2023   \n",
       "12029  Pre-Market Most Active for Dec 19, 2023 : BMY,...         AAPL  2023   \n",
       "\n",
       "         month  \n",
       "12025  2023-12  \n",
       "12026  2023-12  \n",
       "12027  2023-12  \n",
       "12028  2023-12  \n",
       "12029  2023-12  "
      ]
     },
     "execution_count": 20,
     "metadata": {},
     "output_type": "execute_result"
    }
   ],
   "source": [
    "df_filtered.head()"
   ]
  },
  {
   "cell_type": "code",
   "execution_count": 5,
   "id": "4050e8b1",
   "metadata": {},
   "outputs": [
    {
     "data": {
      "text/plain": [
       "(Timestamp('2009-12-09 00:00:00+0000', tz='UTC'),\n",
       " Timestamp('2024-01-04 00:00:00+0000', tz='UTC'))"
      ]
     },
     "execution_count": 5,
     "metadata": {},
     "output_type": "execute_result"
    }
   ],
   "source": [
    "raw_chunk = pd.read_csv(file_path, usecols=['Date', 'Stock_symbol', 'Article_title'], nrows=1_000_000)\n",
    "raw_chunk['Date'] = pd.to_datetime(raw_chunk['Date'])\n",
    "\n",
    "# Search for partial names\n",
    "apple_hits = raw_chunk[raw_chunk['Article_title'].str.contains(\"Apple\", case=False, na=False)]\n",
    "apple_hits['Date'].min(), apple_hits['Date'].max()\n"
   ]
  },
  {
   "cell_type": "code",
   "execution_count": 21,
   "id": "889eaebe",
   "metadata": {},
   "outputs": [
    {
     "name": "stdout",
     "output_type": "stream",
     "text": [
      "Zacks Investment Ideas feature highlights: Chevron, Kinder Morgan, Agilent Technologies, Apple and Microsoft\n"
     ]
    }
   ],
   "source": [
    "print(apple_hits['Article_title'][258])"
   ]
  }
 ],
 "metadata": {
  "kernelspec": {
   "display_name": "Python 3 (ipykernel)",
   "language": "python",
   "name": "python3"
  },
  "language_info": {
   "codemirror_mode": {
    "name": "ipython",
    "version": 3
   },
   "file_extension": ".py",
   "mimetype": "text/x-python",
   "name": "python",
   "nbconvert_exporter": "python",
   "pygments_lexer": "ipython3",
   "version": "3.9.13"
  }
 },
 "nbformat": 4,
 "nbformat_minor": 5
}
