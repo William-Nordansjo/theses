{
 "cells": [
  {
   "cell_type": "code",
   "execution_count": 1,
   "id": "90c70f3b",
   "metadata": {},
   "outputs": [],
   "source": [
    "import pandas as pd\n",
    "from collections import Counter\n",
    "from statistics import mode, StatisticsError"
   ]
  },
  {
   "cell_type": "code",
   "execution_count": 2,
   "id": "db92d013",
   "metadata": {},
   "outputs": [],
   "source": [
    "# Data\n",
    "Patch_TST = [\n",
    "    {'stock': 'AAPL', 'model': 'finbert', 'params': {'dropout': 0.47755413461177565, 'batch_size': 128, 'learning_rate': 0.001398397397652222, 'patch_len': 16, 'stride': 10}, 'mse': 16.224550247192383},\n",
    "    {'stock': 'AAPL', 'model': 'vader', 'params': {'dropout': 0.05258165313452709, 'batch_size': 128, 'learning_rate': 0.001396374190788974, 'patch_len': 48, 'stride': 8}, 'mse': 15.809932708740234},\n",
    "    {'stock': 'AAPL', 'model': 'roberta', 'params': {'dropout': 0.32987331164742256, 'batch_size': 512, 'learning_rate': 0.0032859510885658713, 'patch_len': 32, 'stride': 10}, 'mse': 15.982783317565918},\n",
    "    {'stock': 'META', 'model': 'finbert', 'params': {'dropout': 0.10788654461218597, 'batch_size': 512, 'learning_rate': 0.00021461228257735928, 'patch_len': 48, 'stride': 10}, 'mse': 4.389112949371338},\n",
    "    {'stock': 'META', 'model': 'vader', 'params': {'dropout': 0.08714383148378746, 'batch_size': 128, 'learning_rate': 0.00011693733231826586, 'patch_len': 48, 'stride': 10}, 'mse': 3.926825761795044},\n",
    "    {'stock': 'META', 'model': 'roberta', 'params': {'dropout': 0.2340746258608002, 'batch_size': 512, 'learning_rate': 6.317125336296553e-05, 'patch_len': 48, 'stride': 8}, 'mse': 4.42146110534668},\n",
    "    {'stock': 'MSFT', 'model': 'finbert', 'params': {'dropout': 0.1342157557976283, 'batch_size': 256, 'learning_rate': 0.0010699044885843206, 'patch_len': 16, 'stride': 8}, 'mse': 14.091763496398926},\n",
    "    {'stock': 'MSFT', 'model': 'vader', 'params': {'dropout': 0.3100044627695442, 'batch_size': 512, 'learning_rate': 0.009853374191323868, 'patch_len': 16, 'stride': 8}, 'mse': 13.696978569030762},\n",
    "    {'stock': 'MSFT', 'model': 'roberta', 'params': {'dropout': 0.49674728207597396, 'batch_size': 512, 'learning_rate': 0.0007384190301642808, 'patch_len': 16, 'stride': 12}, 'mse': 14.181476593017578},\n",
    "    {'stock': 'NVDA', 'model': 'finbert', 'params': {'dropout': 0.39444384427852586, 'batch_size': 256, 'learning_rate': 0.0011232469935980858, 'patch_len': 16, 'stride': 8}, 'mse': 80.82823181152344},\n",
    "    {'stock': 'NVDA', 'model': 'vader', 'params': {'dropout': 0.2867828029404956, 'batch_size': 128, 'learning_rate': 0.0005011123349339654, 'patch_len': 16, 'stride': 8}, 'mse': 78.71142578125},\n",
    "    {'stock': 'NVDA', 'model': 'roberta', 'params': {'dropout': 0.35671718704587974, 'batch_size': 128, 'learning_rate': 0.0004966115296405134, 'patch_len': 32, 'stride': 12}, 'mse': 80.11370086669922},\n",
    "    {'stock': 'TSLA', 'model': 'finbert', 'params': {'dropout': 0.4036608833994088, 'batch_size': 128, 'learning_rate': 0.0024153010849653983, 'patch_len': 32, 'stride': 12}, 'mse': 108.84541320800781},\n",
    "    {'stock': 'TSLA', 'model': 'vader', 'params': {'dropout': 0.46726853183654726, 'batch_size': 128, 'learning_rate': 2.2295785327843577e-05, 'patch_len': 48, 'stride': 8}, 'mse': 111.01953887939453},\n",
    "    {'stock': 'TSLA', 'model': 'roberta', 'params': {'dropout': 0.4840856539410029, 'batch_size': 128, 'learning_rate': 0.00018039359532792313, 'patch_len': 32, 'stride': 8}, 'mse': 110.76618194580078},\n",
    "    {'stock': 'GOOGL', 'model': 'finbert', 'params': {'dropout': 0.10729936727797121, 'batch_size': 512, 'learning_rate': 0.00021489711725324436, 'patch_len': 48, 'stride': 10}, 'mse': 11.859642028808594},\n",
    "    {'stock': 'GOOGL', 'model': 'vader', 'params': {'dropout': 0.3479686027278116, 'batch_size': 128, 'learning_rate': 0.0003171779603543097, 'patch_len': 16, 'stride': 10}, 'mse': 11.220919609069824},\n",
    "    {'stock': 'GOOGL', 'model': 'roberta', 'params': {'dropout': 0.387052709349633, 'batch_size': 128, 'learning_rate': 0.0003691486455250093, 'patch_len': 32, 'stride': 12}, 'mse': 11.966643333435059},\n",
    "    {'stock': 'AMZN', 'model': 'finbert', 'params': {'dropout': 0.05262276448528757, 'batch_size': 128, 'learning_rate': 7.087859488700552e-05, 'patch_len': 16, 'stride': 8}, 'mse': 16.11032485961914},\n",
    "    {'stock': 'AMZN', 'model': 'vader', 'params': {'dropout': 0.2707966517803455, 'batch_size': 128, 'learning_rate': 0.0003178160080107326, 'patch_len': 32, 'stride': 12}, 'mse': 15.829183578491211},\n",
    "    {'stock': 'AMZN', 'model': 'roberta', 'params': {'dropout': 0.23577841437927932, 'batch_size': 512, 'learning_rate': 0.00011373979307051219, 'patch_len': 32, 'stride': 12}, 'mse': 16.378124237060547},\n",
    "]\n",
    "\n",
    "Informer_setting = [\n",
    "    {'stock': 'AAPL', 'model': 'finbert', 'params': {'dropout': 0.3016087404467096, 'batch_size': 128, 'learning_rate': 3.601136968452322e-05, 'label_len': 45}, 'mse': 16.635095596313477},\n",
    "    {'stock': 'AAPL', 'model': 'vader', 'params': {'dropout': 0.3967571218410976, 'batch_size': 128, 'learning_rate': 2.634242135125069e-05, 'label_len': 30}, 'mse': 16.82978630065918},\n",
    "    {'stock': 'AAPL', 'model': 'roberta', 'params': {'dropout': 0.22592245160076901, 'batch_size': 256, 'learning_rate': 8.085873490084855e-05, 'label_len': 45}, 'mse': 16.265132904052734},\n",
    "    {'stock': 'META', 'model': 'finbert', 'params': {'dropout': 0.12302715303437517, 'batch_size': 512, 'learning_rate': 3.2004961268184505e-05, 'label_len': 30}, 'mse': 5.739016056060791},\n",
    "    {'stock': 'META', 'model': 'vader', 'params': {'dropout': 0.21814121826749155, 'batch_size': 256, 'learning_rate': 7.074036559665999e-05, 'label_len': 15}, 'mse': 5.513366222381592},\n",
    "    {'stock': 'META', 'model': 'roberta', 'params': {'dropout': 0.49468005981364127, 'batch_size': 256, 'learning_rate': 5.160679096886255e-05, 'label_len': 15}, 'mse': 5.604220390319824},\n",
    "    {'stock': 'MSFT', 'model': 'finbert', 'params': {'dropout': 0.36912519474853295, 'batch_size': 128, 'learning_rate': 0.00021583236619237555, 'label_len': 30}, 'mse': 14.474627494812012},\n",
    "    {'stock': 'MSFT', 'model': 'vader', 'params': {'dropout': 0.276481262484511, 'batch_size': 256, 'learning_rate': 6.23610297306941e-05, 'label_len': 15}, 'mse': 14.255833625793457},\n",
    "    {'stock': 'MSFT', 'model': 'roberta', 'params': {'dropout': 0.11620034897299875, 'batch_size': 256, 'learning_rate': 0.00015869238862200932, 'label_len': 15}, 'mse': 14.622986793518066},\n",
    "    {'stock': 'NVDA', 'model': 'finbert', 'params': {'dropout': 0.24331447120811894, 'batch_size': 512, 'learning_rate': 0.00023360579748050496, 'label_len': 15}, 'mse': 85.03646087646484},\n",
    "    {'stock': 'NVDA', 'model': 'vader', 'params': {'dropout': 0.4483936022298001, 'batch_size': 128, 'learning_rate': 0.0001343734200558095, 'label_len': 45}, 'mse': 84.4102783203125},\n",
    "    {'stock': 'NVDA', 'model': 'roberta', 'params': {'dropout': 0.208118450655918, 'batch_size': 256, 'learning_rate': 8.874267987924277e-05, 'label_len': 15}, 'mse': 85.04058074951172},\n",
    "    {'stock': 'TSLA', 'model': 'finbert', 'params': {'dropout': 0.48354896156550725, 'batch_size': 128, 'learning_rate': 0.0002654004258020519, 'label_len': 45}, 'mse': 110.26556396484375},\n",
    "    {'stock': 'TSLA', 'model': 'vader', 'params': {'dropout': 0.45739376058830095, 'batch_size': 256, 'learning_rate': 0.0038129638877524106, 'label_len': 45}, 'mse': 109.8934097290039},\n",
    "    {'stock': 'TSLA', 'model': 'roberta', 'params': {'dropout': 0.3325276851373125, 'batch_size': 512, 'learning_rate': 0.00016744548935649305, 'label_len': 30}, 'mse': 110.05938720703125},\n",
    "    {'stock': 'GOOGL', 'model': 'finbert', 'params': {'dropout': 0.42652345379855167, 'batch_size': 128, 'learning_rate': 0.0003624451722715322, 'label_len': 30}, 'mse': 13.93571662902832},\n",
    "    {'stock': 'GOOGL', 'model': 'vader', 'params': {'dropout': 0.4874677870403265, 'batch_size': 512, 'learning_rate': 0.00024698334481318754, 'label_len': 45}, 'mse': 13.635431289672852},\n",
    "    {'stock': 'GOOGL', 'model': 'roberta', 'params': {'dropout': 0.1204561161113281, 'batch_size': 512, 'learning_rate': 0.0036543491948239576, 'label_len': 15}, 'mse': 13.97333812713623},\n",
    "    {'stock': 'AMZN', 'model': 'finbert', 'params': {'dropout': 0.388785700627255, 'batch_size': 512, 'learning_rate': 0.0003248461280468332, 'label_len': 30}, 'mse': 18.973413467407227},\n",
    "    {'stock': 'AMZN', 'model': 'vader', 'params': {'dropout': 0.17089677774978468, 'batch_size': 256, 'learning_rate': 2.0684070546736584e-05, 'label_len': 15}, 'mse': 18.692325592041016},\n",
    "    {'stock': 'AMZN', 'model': 'roberta', 'params': {'dropout': 0.41520935909097095, 'batch_size': 512, 'learning_rate': 3.273190009731464e-05, 'label_len': 15}, 'mse': 18.937419891357422},\n",
    "]\n",
    "\n",
    "# Convert to DataFrames\n",
    "patchtst_df = pd.DataFrame([{\n",
    "    'dropout':d['params']['dropout'],\n",
    "    'batch_size': d['params']['batch_size'],\n",
    "    'learning_rate':d['params']['learning_rate'],\n",
    "    'patch_len': d['params']['patch_len'],\n",
    "    'stride': d['params']['stride']\n",
    "} for d in Patch_TST])\n",
    "\n",
    "informer_df = pd.DataFrame([{\n",
    "    'dropout':d['params']['dropout'],\n",
    "    'batch_size': d['params']['batch_size'],\n",
    "    'learning_rate':d['params']['learning_rate'],\n",
    "    'label_len': d['params']['label_len']\n",
    "} for d in Informer_setting])"
   ]
  },
  {
   "cell_type": "code",
   "execution_count": 3,
   "id": "bece5811",
   "metadata": {},
   "outputs": [],
   "source": [
    "# Helper function for mode\n",
    "def safe_mode(series):\n",
    "    try:\n",
    "        return mode(series)\n",
    "    except StatisticsError:\n",
    "        return Counter(series).most_common(1)[0][0]\n"
   ]
  },
  {
   "cell_type": "code",
   "execution_count": 4,
   "id": "6ed7366e",
   "metadata": {},
   "outputs": [],
   "source": [
    "# Calculate modes\n",
    "patchtst_modes = {\n",
    "    'dropout': safe_mode(patchtst_df['dropout']),\n",
    "    'batch_size': safe_mode(patchtst_df['batch_size']),\n",
    "    'learning_rate': safe_mode(patchtst_df['learning_rate']),\n",
    "    'patch_len': safe_mode(patchtst_df['patch_len']),\n",
    "    'stride': safe_mode(patchtst_df['stride'])\n",
    "}\n",
    "\n",
    "informer_modes = {\n",
    "    'dropout': safe_mode(informer_df['dropout']),\n",
    "    'batch_size': safe_mode(informer_df['batch_size']),\n",
    "    'learning_rate': safe_mode(informer_df['learning_rate']),\n",
    "    'label_len': safe_mode(informer_df['label_len'])\n",
    "}\n"
   ]
  },
  {
   "cell_type": "code",
   "execution_count": 6,
   "id": "06f1d894",
   "metadata": {
    "scrolled": true
   },
   "outputs": [
    {
     "data": {
      "text/plain": [
       "{'dropout': 0.47755413461177565,\n",
       " 'batch_size': 128,\n",
       " 'learning_rate': 0.001398397397652222,\n",
       " 'patch_len': 16,\n",
       " 'stride': 8}"
      ]
     },
     "execution_count": 6,
     "metadata": {},
     "output_type": "execute_result"
    }
   ],
   "source": [
    "patchtst_modes"
   ]
  },
  {
   "cell_type": "code",
   "execution_count": 7,
   "id": "8d637fa1",
   "metadata": {},
   "outputs": [
    {
     "data": {
      "text/plain": [
       "{'dropout': 0.3016087404467096,\n",
       " 'batch_size': 256,\n",
       " 'learning_rate': 3.601136968452322e-05,\n",
       " 'label_len': 15}"
      ]
     },
     "execution_count": 7,
     "metadata": {},
     "output_type": "execute_result"
    }
   ],
   "source": [
    "informer_modes"
   ]
  }
 ],
 "metadata": {
  "kernelspec": {
   "display_name": "Python 3 (ipykernel)",
   "language": "python",
   "name": "python3"
  },
  "language_info": {
   "codemirror_mode": {
    "name": "ipython",
    "version": 3
   },
   "file_extension": ".py",
   "mimetype": "text/x-python",
   "name": "python",
   "nbconvert_exporter": "python",
   "pygments_lexer": "ipython3",
   "version": "3.9.13"
  }
 },
 "nbformat": 4,
 "nbformat_minor": 5
}
