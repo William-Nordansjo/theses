{
 "cells": [
  {
   "cell_type": "code",
   "execution_count": 2,
   "id": "1beaab9c",
   "metadata": {},
   "outputs": [],
   "source": [
    "import pandas as pd\n",
    "import spacy\n",
    "from tqdm import tqdm"
   ]
  },
  {
   "cell_type": "code",
   "execution_count": 3,
   "id": "06a11f71",
   "metadata": {
    "scrolled": true
   },
   "outputs": [],
   "source": [
    "df_appl = pd.read_csv(\"Union_AAPL.csv\")"
   ]
  },
  {
   "cell_type": "code",
   "execution_count": 25,
   "id": "30962514",
   "metadata": {
    "scrolled": true
   },
   "outputs": [
    {
     "name": "stdout",
     "output_type": "stream",
     "text": [
      "<class 'pandas.core.frame.DataFrame'>\n",
      "RangeIndex: 79506 entries, 0 to 79505\n",
      "Data columns (total 7 columns):\n",
      " #   Column          Non-Null Count  Dtype \n",
      "---  ------          --------------  ----- \n",
      " 0   index           79506 non-null  int64 \n",
      " 1   date            79506 non-null  object\n",
      " 2   article_title   79506 non-null  object\n",
      " 3   stock_symbol    79506 non-null  object\n",
      " 4   fuzzy_80_label  79506 non-null  object\n",
      " 5   hard_label      79506 non-null  object\n",
      " 6   spacy_label     79506 non-null  object\n",
      "dtypes: int64(1), object(6)\n",
      "memory usage: 4.2+ MB\n"
     ]
    }
   ],
   "source": [
    "df_tsla.info()"
   ]
  },
  {
   "cell_type": "code",
   "execution_count": 7,
   "id": "a41990a5",
   "metadata": {},
   "outputs": [
    {
     "name": "stdout",
     "output_type": "stream",
     "text": [
      "\n",
      "🔍 Running spaCy NER for AAPL\n"
     ]
    },
    {
     "name": "stderr",
     "output_type": "stream",
     "text": [
      "AAPL: 100%|█████████████████████████████████████| 87/87 [32:14<00:00, 22.24s/it]\n"
     ]
    }
   ],
   "source": [
    "# --- Load spaCy model ---\n",
    "nlp = spacy.load(\"en_core_web_sm\", disable=[\"textcat\"])\n",
    "\n",
    "# --- Define stock-specific keywords ---\n",
    "spacy_keywords = {\n",
    "    \"AAPL\": [\n",
    "        \"AAPL\", \"Apple\", \"Apple Inc\", \"Steve Jobs\", \"Tim Cook\", \"Steve Wozniak\",\n",
    "        \"iPhone\", \"iPad\", \"Mac\", \"Apple Watch\", \"Apple Music\", \"Apple TV\"\n",
    "    ]\n",
    "}\n",
    "\n",
    "ENTITY_TYPES = {\"ORG\", \"PERSON\", \"PRODUCT\"}\n",
    "TEXT_COLUMN = \"article_title\"\n",
    "INDEX_COLUMN = \"index\"\n",
    "CHUNKSIZE = 10_000\n",
    "\n",
    "# --- Run on the in-memory df_appl ---\n",
    "stock = \"AAPL\"\n",
    "print(f\"\\n🔍 Running spaCy NER for {stock}\")\n",
    "matches = set()\n",
    "\n",
    "# Process in chunks for memory efficiency\n",
    "for start in tqdm(range(0, len(df_appl), CHUNKSIZE), desc=stock):\n",
    "    end = min(start + CHUNKSIZE, len(df_appl))\n",
    "    chunk = df_appl.iloc[start:end][[INDEX_COLUMN, TEXT_COLUMN]].dropna()\n",
    "\n",
    "    docs = list(nlp.pipe(chunk[TEXT_COLUMN].tolist(), batch_size=128))\n",
    "\n",
    "    for doc, idx in zip(docs, chunk[INDEX_COLUMN]):\n",
    "        for ent in doc.ents:\n",
    "            if ent.label_ in ENTITY_TYPES and ent.text in spacy_keywords[stock]:\n",
    "                matches.add(idx)\n",
    "                break\n",
    "\n",
    "# Assign labels to df_appl\n",
    "df_appl[\"spacy_label\"] = df_appl[INDEX_COLUMN].apply(lambda i: stock if i in matches else \"other\")\n"
   ]
  },
  {
   "cell_type": "code",
   "execution_count": 10,
   "id": "781ec3ae",
   "metadata": {
    "scrolled": true
   },
   "outputs": [
    {
     "data": {
      "text/html": [
       "<div>\n",
       "<style scoped>\n",
       "    .dataframe tbody tr th:only-of-type {\n",
       "        vertical-align: middle;\n",
       "    }\n",
       "\n",
       "    .dataframe tbody tr th {\n",
       "        vertical-align: top;\n",
       "    }\n",
       "\n",
       "    .dataframe thead th {\n",
       "        text-align: right;\n",
       "    }\n",
       "</style>\n",
       "<table border=\"1\" class=\"dataframe\">\n",
       "  <thead>\n",
       "    <tr style=\"text-align: right;\">\n",
       "      <th></th>\n",
       "      <th>index</th>\n",
       "      <th>date</th>\n",
       "      <th>article_title</th>\n",
       "      <th>stock_symbol</th>\n",
       "      <th>fuzzy_80_label</th>\n",
       "      <th>hard_label</th>\n",
       "      <th>spacy_label</th>\n",
       "    </tr>\n",
       "  </thead>\n",
       "  <tbody>\n",
       "    <tr>\n",
       "      <th>0</th>\n",
       "      <td>13</td>\n",
       "      <td>2023-11-21 00:00:00+00:00</td>\n",
       "      <td>A Makes Bullish Cross Above Critical Moving Av...</td>\n",
       "      <td>other</td>\n",
       "      <td>AAPL</td>\n",
       "      <td>other</td>\n",
       "      <td>other</td>\n",
       "    </tr>\n",
       "    <tr>\n",
       "      <th>1</th>\n",
       "      <td>36</td>\n",
       "      <td>2023-09-25 00:00:00+00:00</td>\n",
       "      <td>After Hours Most Active for Sep 25, 2023 : OKE...</td>\n",
       "      <td>other</td>\n",
       "      <td>AAPL</td>\n",
       "      <td>AAPL</td>\n",
       "      <td>other</td>\n",
       "    </tr>\n",
       "    <tr>\n",
       "      <th>2</th>\n",
       "      <td>64</td>\n",
       "      <td>2023-08-15 00:00:00+00:00</td>\n",
       "      <td>Markets Remain Sold; H&amp;R Block (HRB), Agilent ...</td>\n",
       "      <td>other</td>\n",
       "      <td>AAPL</td>\n",
       "      <td>other</td>\n",
       "      <td>other</td>\n",
       "    </tr>\n",
       "    <tr>\n",
       "      <th>3</th>\n",
       "      <td>73</td>\n",
       "      <td>2023-08-11 00:00:00+00:00</td>\n",
       "      <td>Agilent Technologies (A) to Post Q3 Earnings: ...</td>\n",
       "      <td>other</td>\n",
       "      <td>AAPL</td>\n",
       "      <td>other</td>\n",
       "      <td>other</td>\n",
       "    </tr>\n",
       "    <tr>\n",
       "      <th>4</th>\n",
       "      <td>92</td>\n",
       "      <td>2023-06-02 00:00:00+00:00</td>\n",
       "      <td>After Hours Most Active for Jun 2, 2023 : UPWK...</td>\n",
       "      <td>other</td>\n",
       "      <td>AAPL</td>\n",
       "      <td>AAPL</td>\n",
       "      <td>other</td>\n",
       "    </tr>\n",
       "  </tbody>\n",
       "</table>\n",
       "</div>"
      ],
      "text/plain": [
       "   index                       date  \\\n",
       "0     13  2023-11-21 00:00:00+00:00   \n",
       "1     36  2023-09-25 00:00:00+00:00   \n",
       "2     64  2023-08-15 00:00:00+00:00   \n",
       "3     73  2023-08-11 00:00:00+00:00   \n",
       "4     92  2023-06-02 00:00:00+00:00   \n",
       "\n",
       "                                       article_title stock_symbol  \\\n",
       "0  A Makes Bullish Cross Above Critical Moving Av...        other   \n",
       "1  After Hours Most Active for Sep 25, 2023 : OKE...        other   \n",
       "2  Markets Remain Sold; H&R Block (HRB), Agilent ...        other   \n",
       "3  Agilent Technologies (A) to Post Q3 Earnings: ...        other   \n",
       "4  After Hours Most Active for Jun 2, 2023 : UPWK...        other   \n",
       "\n",
       "  fuzzy_80_label hard_label spacy_label  \n",
       "0           AAPL      other       other  \n",
       "1           AAPL       AAPL       other  \n",
       "2           AAPL      other       other  \n",
       "3           AAPL      other       other  \n",
       "4           AAPL       AAPL       other  "
      ]
     },
     "execution_count": 10,
     "metadata": {},
     "output_type": "execute_result"
    }
   ],
   "source": [
    "df_appl.head()"
   ]
  },
  {
   "cell_type": "code",
   "execution_count": 11,
   "id": "f6490153",
   "metadata": {},
   "outputs": [],
   "source": [
    "df_appl.to_csv(\"AAPL_all_labels.csv\", index=False)"
   ]
  },
  {
   "cell_type": "markdown",
   "id": "3a6fc526",
   "metadata": {},
   "source": [
    "## Generic Function"
   ]
  },
  {
   "cell_type": "code",
   "execution_count": 9,
   "id": "7ea99064",
   "metadata": {
    "scrolled": true
   },
   "outputs": [],
   "source": [
    "import pandas as pd\n",
    "import spacy\n",
    "from tqdm import tqdm\n",
    "\n",
    "# Load spaCy model once\n",
    "nlp = spacy.load(\"en_core_web_sm\")\n",
    "\n",
    "\n",
    "# Keywords per stock for NER\n",
    "spacy_keywords = {\n",
    "    \"AAPL\": [\"AAPL\", \"Apple\", \"Apple Inc\", \"Steve Jobs\", \"Tim Cook\", \"Steve Wozniak\",\n",
    "             \"iPhone\", \"iPad\", \"Mac\", \"Apple Watch\", \"Apple Music\", \"Apple TV\", \"iOS\"],\n",
    "    \"MSFT\": [\"MSFT\", \"Microsoft\", \"Satya Nadella\", \"Bill Gates\", \"Paul Allen\",\n",
    "             \"Xbox\", \"LinkedIn\", \"Visual Studio\", \"OneDrive\", \"Skype\", \"GitHub\", \"SharePoint\"],\n",
    "    \"GOOGL\": [\"GOOGL\", \"GOOG\", \"Google\", \"Alphabet\", \"Larry Page\", \"Sergey Brin\",\n",
    "              \"Sundar Pichai\", \"YouTube\", \"Gmail\", \"Android\", \"Chrome\", \"Google Maps\", \"Google Drive\"],\n",
    "    \"AMZN\": [\"AMZN\", \"Amazon\", \"Amazon.com\", \"Jeff Bezos\", \"Bezos\", \"Alexa\", \"Kindle\",\n",
    "             \"Twitch\", \"Prime Video\", \"Audible\", \"MGM Studios\", \"Fire Tablet\"],\n",
    "    \"NVDA\": [\"NVDA\", \"Nvidia\", \"Jensen Huang\", \"Bill Dally\", \"GeForce\", \"CUDA\", \"RTX\",\n",
    "             \"NVIDIA Drive\", \"NVIDIA Jetson\", \"Blackwell\"],\n",
    "    \"META\": [\"META\", \"Meta\", \"Meta Platforms\", \"Facebook\", \"Mark Zuckerberg\", \"Zuckerberg\",\n",
    "             \"Instagram\", \"Messenger\", \"WhatsApp\", \"Threads\", \"Meta Quest\"],\n",
    "    \"TSLA\": [\"TSLA\", \"Tesla\", \"Elon Musk\", \"Musk\", \"Model 3\", \"Model S\", \"Model X\",\n",
    "             \"Cybertruck\", \"Tesla Semi\", \"Roadster\", \"GigaFactory\", \"Supercharger\"]\n",
    "}\n",
    "\n",
    "# Entity types we care about\n",
    "ENTITY_TYPES = {\"ORG\", \"PERSON\", \"PRODUCT\"}\n",
    "\n",
    "def run_spacy_ner_on_df(df, stock, text_column=\"article_title\", index_column=\"index\", chunksize=500_000):\n",
    "    \"\"\"\n",
    "    Run spaCy NER on a stock-specific DataFrame and append a 'spacy_label' column\n",
    "    based on matching known keywords for ORG, PERSON, PRODUCT.\n",
    "\n",
    "    Parameters:\n",
    "        df (pd.DataFrame): Input DataFrame with article titles.\n",
    "        stock (str): Stock ticker (e.g., \"AAPL\", \"TSLA\").\n",
    "        text_column (str): Column name for text.\n",
    "        index_column (str): Unique index column name.\n",
    "        chunksize (int): Chunk size for processing.\n",
    "\n",
    "    Returns:\n",
    "        pd.DataFrame: Updated DataFrame with new 'spacy_label' column.\n",
    "    \"\"\"\n",
    "    print(f\"\\n🔍 Running spaCy NER for {stock}\")\n",
    "    matches = set()\n",
    "    keywords = spacy_keywords[stock]\n",
    "\n",
    "    for start in tqdm(range(0, len(df), chunksize), desc=f\"{stock} NER\"):\n",
    "        end = min(start + chunksize, len(df))\n",
    "        chunk = df.iloc[start:end][[index_column, text_column]].dropna()\n",
    "\n",
    "        docs = list(nlp.pipe(chunk[text_column].tolist(), batch_size=128))\n",
    "\n",
    "        for doc, idx in zip(docs, chunk[index_column]):\n",
    "            for ent in doc.ents:\n",
    "                if ent.label_ in ENTITY_TYPES and ent.text in keywords:\n",
    "                    matches.add(idx)\n",
    "                    break  # one match is enough per doc\n",
    "\n",
    "    # Assign label\n",
    "    df[\"spacy_label\"] = df[index_column].apply(lambda i: stock if i in matches else \"other\")\n",
    "    return df\n"
   ]
  },
  {
   "cell_type": "code",
   "execution_count": 10,
   "id": "48c688e4",
   "metadata": {},
   "outputs": [],
   "source": [
    "df_aapl = pd.read_csv(\"/Users/williamnordansjo/DABEN/DABN01 - Masters' Thesis/Auxiliary Data/AAPL_KBL.csv\")\n",
    "df_msft = pd.read_csv(\"/Users/williamnordansjo/DABEN/DABN01 - Masters' Thesis/Auxiliary Data/MSFT_KBL.csv\")\n",
    "df_googl = pd.read_csv(\"/Users/williamnordansjo/DABEN/DABN01 - Masters' Thesis/Auxiliary Data/GOOGL_KBL.csv\")\n",
    "df_amzn = pd.read_csv(\"/Users/williamnordansjo/DABEN/DABN01 - Masters' Thesis/Auxiliary Data/AMZN_KBL.csv\")\n",
    "df_nvda = pd.read_csv(\"/Users/williamnordansjo/DABEN/DABN01 - Masters' Thesis/Auxiliary Data/NVDA_KBL.csv\")\n",
    "df_meta = pd.read_csv(\"/Users/williamnordansjo/DABEN/DABN01 - Masters' Thesis/Auxiliary Data/META_KBL.csv\")\n",
    "df_tsla = pd.read_csv(\"/Users/williamnordansjo/DABEN/DABN01 - Masters' Thesis/Auxiliary Data/TSLA_KBL.csv\")"
   ]
  },
  {
   "cell_type": "code",
   "execution_count": 7,
   "id": "34a9110d",
   "metadata": {
    "scrolled": true
   },
   "outputs": [
    {
     "name": "stdout",
     "output_type": "stream",
     "text": [
      "<class 'pandas.core.frame.DataFrame'>\n",
      "RangeIndex: 473942 entries, 0 to 473941\n",
      "Data columns (total 6 columns):\n",
      " #   Column          Non-Null Count   Dtype \n",
      "---  ------          --------------   ----- \n",
      " 0   index           473942 non-null  int64 \n",
      " 1   date            473942 non-null  object\n",
      " 2   article_title   473942 non-null  object\n",
      " 3   stock_symbol    473942 non-null  object\n",
      " 4   fuzzy_85_label  473942 non-null  object\n",
      " 5   harder_label    473942 non-null  object\n",
      "dtypes: int64(1), object(5)\n",
      "memory usage: 21.7+ MB\n"
     ]
    }
   ],
   "source": [
    "df_msft.info()"
   ]
  },
  {
   "cell_type": "code",
   "execution_count": 13,
   "id": "b0c1eae8",
   "metadata": {
    "scrolled": false
   },
   "outputs": [
    {
     "name": "stdout",
     "output_type": "stream",
     "text": [
      "\n",
      "🔍 Running spaCy NER for AAPL\n"
     ]
    },
    {
     "name": "stderr",
     "output_type": "stream",
     "text": [
      "AAPL NER: 100%|█████████████████████████████████| 20/20 [06:51<00:00, 20.59s/it]\n"
     ]
    },
    {
     "name": "stdout",
     "output_type": "stream",
     "text": [
      "\n",
      "🔍 Running spaCy NER for MSFT\n"
     ]
    },
    {
     "name": "stderr",
     "output_type": "stream",
     "text": [
      "MSFT NER: 100%|█████████████████████████████████| 48/48 [15:37<00:00, 19.53s/it]\n"
     ]
    },
    {
     "name": "stdout",
     "output_type": "stream",
     "text": [
      "\n",
      "🔍 Running spaCy NER for GOOGL\n"
     ]
    },
    {
     "name": "stderr",
     "output_type": "stream",
     "text": [
      "GOOGL NER: 100%|████████████████████████████████| 10/10 [04:27<00:00, 26.77s/it]\n"
     ]
    },
    {
     "name": "stdout",
     "output_type": "stream",
     "text": [
      "\n",
      "🔍 Running spaCy NER for AMZN\n"
     ]
    },
    {
     "name": "stderr",
     "output_type": "stream",
     "text": [
      "AMZN NER: 100%|█████████████████████████████████| 16/16 [03:07<00:00, 11.73s/it]\n"
     ]
    },
    {
     "name": "stdout",
     "output_type": "stream",
     "text": [
      "\n",
      "🔍 Running spaCy NER for NVDA\n"
     ]
    },
    {
     "name": "stderr",
     "output_type": "stream",
     "text": [
      "NVDA NER: 100%|█████████████████████████████████| 12/12 [04:45<00:00, 23.75s/it]\n"
     ]
    },
    {
     "name": "stdout",
     "output_type": "stream",
     "text": [
      "\n",
      "🔍 Running spaCy NER for META\n"
     ]
    },
    {
     "name": "stderr",
     "output_type": "stream",
     "text": [
      "META NER: 100%|█████████████████████████████████| 15/15 [02:36<00:00, 10.42s/it]\n"
     ]
    },
    {
     "name": "stdout",
     "output_type": "stream",
     "text": [
      "\n",
      "🔍 Running spaCy NER for TSLA\n"
     ]
    },
    {
     "name": "stderr",
     "output_type": "stream",
     "text": [
      "TSLA NER: 100%|█████████████████████████████████| 10/10 [03:55<00:00, 23.51s/it]\n"
     ]
    }
   ],
   "source": [
    "df_aapl = run_spacy_ner_on_df(df_aapl, stock=\"AAPL\", chunksize = 10_000)\n",
    "df_msft = run_spacy_ner_on_df(df_msft, stock=\"MSFT\", chunksize = 10_000)\n",
    "df_googl = run_spacy_ner_on_df(df_googl, stock=\"GOOGL\", chunksize = 10_000)\n",
    "df_amzn = run_spacy_ner_on_df(df_amzn, stock=\"AMZN\", chunksize = 5_000)\n",
    "df_nvda = run_spacy_ner_on_df(df_nvda, stock=\"NVDA\", chunksize = 10_000)\n",
    "df_meta = run_spacy_ner_on_df(df_meta, stock=\"META\", chunksize = 5_000)\n",
    "df_tsla = run_spacy_ner_on_df(df_tsla, stock=\"TSLA\", chunksize = 10_000)"
   ]
  },
  {
   "cell_type": "code",
   "execution_count": 14,
   "id": "a13f8fe7",
   "metadata": {},
   "outputs": [],
   "source": [
    "df_aapl.to_csv(\"AAPL_complete_ms.csv\", index=False)\n",
    "df_msft.to_csv(\"MSFT_complete_ms.csv\", index=False)\n",
    "df_googl.to_csv(\"GOOGL_complete_ms.csv\", index=False)\n",
    "df_amzn.to_csv(\"AMZN_complete_ms.csv\", index=False)\n",
    "df_nvda.to_csv(\"NVDA_complete_ms.csv\", index=False)\n",
    "df_meta.to_csv(\"META_complete_ms.csv\", index=False)\n",
    "df_tsla.to_csv(\"TSLA_complete_ms.csv\", index=False)"
   ]
  },
  {
   "cell_type": "code",
   "execution_count": 39,
   "id": "dac9ccfb",
   "metadata": {},
   "outputs": [
    {
     "name": "stdout",
     "output_type": "stream",
     "text": [
      "/Users/williamnordansjo/DABEN/DABN01 - Masters' Thesis/Notebooks\n"
     ]
    }
   ],
   "source": [
    "import os\n",
    "print(os.getcwd())"
   ]
  }
 ],
 "metadata": {
  "kernelspec": {
   "display_name": "Python 3 (ipykernel)",
   "language": "python",
   "name": "python3"
  },
  "language_info": {
   "codemirror_mode": {
    "name": "ipython",
    "version": 3
   },
   "file_extension": ".py",
   "mimetype": "text/x-python",
   "name": "python",
   "nbconvert_exporter": "python",
   "pygments_lexer": "ipython3",
   "version": "3.9.13"
  }
 },
 "nbformat": 4,
 "nbformat_minor": 5
}
